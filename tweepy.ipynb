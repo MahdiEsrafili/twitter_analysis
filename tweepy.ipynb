{
 "cells": [
  {
   "cell_type": "code",
   "execution_count": 1,
   "metadata": {},
   "outputs": [],
   "source": [
    "import cv2\n",
    "import numpy as np\n",
    "from PIL import Image\n",
    "import matplotlib.pyplot as plt\n",
    "import urllib\n",
    "import time\n",
    "import tweepy\n",
    "import pandas as pd\n",
    "import json"
   ]
  },
  {
   "cell_type": "code",
   "execution_count": 2,
   "metadata": {},
   "outputs": [],
   "source": [
    "\n",
    "with open('secret.txt') as json_file:\n",
    "    data = json.load(json_file)\n",
    "auth = tweepy.OAuthHandler(data['info'][0]['api_key'], data['info'][0]['api_secret'])\n",
    "auth.set_access_token(data['info'][0]['access_token'], data['info'][0]['access_secret'])\n",
    "\n",
    "api = tweepy.API(auth)\n"
   ]
  },
  {
   "cell_type": "code",
   "execution_count": 39,
   "metadata": {},
   "outputs": [
    {
     "name": "stdout",
     "output_type": "stream",
     "text": [
      "number of mutual friends 70\n"
     ]
    }
   ],
   "source": [
    "screen_name='Mahdi_Esr'\n",
    "user = api.get_user(screen_name =screen_name)\n",
    "followers_ids = []\n",
    "for page in tweepy.Cursor(api.followers, screen_name=screen_name).pages():\n",
    "    followers_ids.extend(page)\n",
    "    time.sleep(0.1)\n",
    "    \n",
    "followings_ids = []\n",
    "for page in tweepy.Cursor(api.friends, screen_name=screen_name).pages():\n",
    "    followings_ids.extend(page)\n",
    "    time.sleep(1)\n",
    "\n",
    "followers_list_screen_name = [f.screen_name for f in followers_ids]\n",
    "following_list_screen_name = [f.screen_name for f in followings_ids]\n",
    "mutual =list(set(followers_list_screen_name).intersection(following_list_screen_name))\n",
    "mutual_profile_pic_url = [t.profile_image_url_https.replace('_normal.','_200x200.') for t in followers_ids if t.screen_name in mutual]\n",
    "print('number of mutual friends',len(mutual))"
   ]
  },
  {
   "cell_type": "code",
   "execution_count": 40,
   "metadata": {},
   "outputs": [],
   "source": [
    "img = []\n",
    "for url in mutual_profile_pic_url:\n",
    "    #print(url)\n",
    "    img.append(plt.imread(urllib.request.urlopen(url),format= 0))"
   ]
  },
  {
   "cell_type": "code",
   "execution_count": 41,
   "metadata": {},
   "outputs": [],
   "source": [
    "circle_filter = np.full([200,200,3], True)\n",
    "for i in range(200):\n",
    "    for j in range(200):\n",
    "        if (j-100)**2 + (i-100)**2>100**2:\n",
    "            circle_filter[i,j] = np.array([False,False,False],dtype=np.bool)\n"
   ]
  },
  {
   "cell_type": "code",
   "execution_count": 42,
   "metadata": {},
   "outputs": [],
   "source": [
    "row = 0\n",
    "clmn = 0\n",
    "res= np.full([200 * (len(img)//5+1), 200*5,3],fill_value=255, dtype=np.uint8)\n",
    "for pic in img:\n",
    "#     print(row,clmn)\n",
    "    if pic.shape==(200,200,4):\n",
    "        pic = Image.fromarray(pic)\n",
    "        pic = pic.convert('RGB')\n",
    "        pic = np.array(pic)\n",
    "    r = pic.copy()\n",
    "    r2 = np.full_like(r, 255)\n",
    "    r2[circle_filter] = r[circle_filter]\n",
    "    res[row*200:(row+1)*200, clmn*200:(clmn+1)*200, :] =r2.astype(np.uint8)\n",
    "    clmn += 1\n",
    "    if clmn%5==0:\n",
    "        row +=1\n",
    "        clmn = 0\n",
    "plt.imsave(screen_name+'.jpg',res) "
   ]
  },
  {
   "cell_type": "code",
   "execution_count": null,
   "metadata": {},
   "outputs": [],
   "source": []
  }
 ],
 "metadata": {
  "kernelspec": {
   "display_name": "Python 3",
   "language": "python",
   "name": "python3"
  },
  "language_info": {
   "codemirror_mode": {
    "name": "ipython",
    "version": 3
   },
   "file_extension": ".py",
   "mimetype": "text/x-python",
   "name": "python",
   "nbconvert_exporter": "python",
   "pygments_lexer": "ipython3",
   "version": "3.7.3"
  }
 },
 "nbformat": 4,
 "nbformat_minor": 2
}
