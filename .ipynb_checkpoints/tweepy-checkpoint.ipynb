{
 "cells": [
  {
   "cell_type": "code",
   "execution_count": 1,
   "metadata": {},
   "outputs": [],
   "source": [
    "import cv2\n",
    "import numpy as np\n",
    "from PIL import Image\n",
    "import matplotlib.pyplot as plt\n",
    "import urllib\n",
    "import time\n",
    "import tweepy\n",
    "import pandas as pd\n",
    "import json"
   ]
  },
  {
   "cell_type": "code",
   "execution_count": 2,
   "metadata": {},
   "outputs": [],
   "source": [
    "\n",
    "with open('secret.txt') as json_file:\n",
    "    data = json.load(json_file)\n",
    "auth = tweepy.OAuthHandler(data['info'][0]['api_key'], data['info'][0]['api_secret'])\n",
    "auth.set_access_token(data['info'][0]['access_token'], data['info'][0]['access_secret'])\n",
    "\n",
    "api = tweepy.API(auth)\n"
   ]
  },
  {
   "cell_type": "code",
   "execution_count": 3,
   "metadata": {},
   "outputs": [
    {
     "name": "stdout",
     "output_type": "stream",
     "text": [
      "number of mutual friends 70\n"
     ]
    }
   ],
   "source": [
    "screen_name='Mahdi_Esr'\n",
    "user = api.get_user(screen_name =screen_name)\n",
    "followers_ids = []\n",
    "for page in tweepy.Cursor(api.followers, screen_name=screen_name).pages():\n",
    "    followers_ids.extend(page)\n",
    "    time.sleep(0.1)\n",
    "    \n",
    "followings_ids = []\n",
    "for page in tweepy.Cursor(api.friends, screen_name=screen_name).pages():\n",
    "    followings_ids.extend(page)\n",
    "    time.sleep(1)\n",
    "\n",
    "followers_list_screen_name = [f.screen_name for f in followers_ids]\n",
    "following_list_screen_name = [f.screen_name for f in followings_ids]\n",
    "mutual =list(set(followers_list_screen_name).intersection(following_list_screen_name))\n",
    "mutual_profile_pic_url = [t.profile_image_url_https.replace('_normal.','_200x200.') for t in followers_ids if t.screen_name in mutual]\n",
    "print('number of mutual friends',len(mutual))"
   ]
  },
  {
   "cell_type": "code",
   "execution_count": 4,
   "metadata": {},
   "outputs": [
    {
     "name": "stdout",
     "output_type": "stream",
     "text": [
      "https://pbs.twimg.com/profile_images/1235960898113679360/VCSASt9d_200x200.jpg\n",
      "https://pbs.twimg.com/profile_images/1270413469876183040/_IFgvezR_200x200.jpg\n",
      "https://pbs.twimg.com/profile_images/1281159383146061825/oQRdUhv0_200x200.jpg\n",
      "https://pbs.twimg.com/profile_images/1113390183527911425/EKa0ChG0_200x200.png\n",
      "https://pbs.twimg.com/profile_images/1238030798885916678/Dq_mZ_Ic_200x200.jpg\n",
      "https://pbs.twimg.com/profile_images/903930995887542273/T-cMp3JQ_200x200.jpg\n",
      "https://pbs.twimg.com/profile_images/1230182222877073408/7Inphpke_200x200.jpg\n",
      "https://pbs.twimg.com/profile_images/1276900902276943872/8yfRaUuX_200x200.jpg\n",
      "https://pbs.twimg.com/profile_images/758616494536323072/p9gGGjsY_200x200.jpg\n",
      "https://pbs.twimg.com/profile_images/973178833653391360/8Us7MGrq_200x200.jpg\n",
      "https://pbs.twimg.com/profile_images/1121756780042825729/VjfKyZeB_200x200.jpg\n",
      "https://pbs.twimg.com/profile_images/1250033986337898496/1ROVWmhQ_200x200.jpg\n",
      "https://pbs.twimg.com/profile_images/1119607769882079234/eOoizvmD_200x200.png\n",
      "https://pbs.twimg.com/profile_images/1233058934543572993/u5NsFn4D_200x200.jpg\n",
      "https://pbs.twimg.com/profile_images/1281865592144891909/0c49SSwy_200x200.jpg\n",
      "https://pbs.twimg.com/profile_images/1271833602867826688/lch8kprU_200x200.jpg\n",
      "https://pbs.twimg.com/profile_images/1264089729248702464/z0jZJ5Cd_200x200.jpg\n",
      "https://pbs.twimg.com/profile_images/1262189001219493888/ylddTBdp_200x200.jpg\n",
      "https://pbs.twimg.com/profile_images/1274619635044880392/42PLTR8w_200x200.jpg\n",
      "https://pbs.twimg.com/profile_images/1214399445405773826/h_pl3ZJ5_200x200.jpg\n",
      "https://pbs.twimg.com/profile_images/1247973684502917121/dlQ2SVlQ_200x200.jpg\n",
      "https://pbs.twimg.com/profile_images/1281540800271327232/VVxeiI53_200x200.jpg\n",
      "https://pbs.twimg.com/profile_images/1271070291201003520/NuVpxsql_200x200.jpg\n",
      "https://pbs.twimg.com/profile_images/1164600129585741824/p3ybVnAe_200x200.jpg\n",
      "https://pbs.twimg.com/profile_images/1227644268891844614/LnzYUubW_200x200.jpg\n",
      "https://pbs.twimg.com/profile_images/1214199831117197316/tlWcLnRe_200x200.jpg\n",
      "https://pbs.twimg.com/profile_images/1264906643378180098/1yTuAG7g_200x200.jpg\n",
      "https://pbs.twimg.com/profile_images/1269910989123858435/Eu1ouZe5_200x200.jpg\n",
      "https://pbs.twimg.com/profile_images/1276752805454204933/JeVpey9N_200x200.jpg\n",
      "https://pbs.twimg.com/profile_images/1217934924654706694/AsGsiGTt_200x200.jpg\n",
      "https://pbs.twimg.com/profile_images/1083375098545999872/huywXijV_200x200.jpg\n",
      "https://pbs.twimg.com/profile_images/1264312199079768069/viaszZMs_200x200.jpg\n",
      "https://pbs.twimg.com/profile_images/1130140195976810497/wA3QAp4y_200x200.jpg\n",
      "https://pbs.twimg.com/profile_images/1257722991238090753/S64QMXz6_200x200.jpg\n",
      "https://pbs.twimg.com/profile_images/1229053180782292992/IRvKr4aT_200x200.jpg\n",
      "https://abs.twimg.com/sticky/default_profile_images/default_profile_200x200.png\n",
      "https://pbs.twimg.com/profile_images/1233511815344279553/3zw82a7M_200x200.jpg\n",
      "https://pbs.twimg.com/profile_images/1209386482525442048/XVk8IcdA_200x200.jpg\n",
      "https://pbs.twimg.com/profile_images/844859005990199296/_yCsI4KK_200x200.jpg\n",
      "https://pbs.twimg.com/profile_images/1218976280130908160/sFthXFVU_200x200.jpg\n",
      "https://pbs.twimg.com/profile_images/1198917677017968641/YBdhOuHn_200x200.jpg\n",
      "https://pbs.twimg.com/profile_images/1249608236912779265/1eFQIcr0_200x200.jpg\n",
      "https://pbs.twimg.com/profile_images/1179582672001097728/QaJodIbi_200x200.jpg\n",
      "https://pbs.twimg.com/profile_images/1157401673846927360/sxRpIYRQ_200x200.jpg\n",
      "https://pbs.twimg.com/profile_images/1154826667627548672/Pm0lofAI_200x200.jpg\n",
      "https://pbs.twimg.com/profile_images/1222203464752738304/EQ0UzBvw_200x200.jpg\n",
      "https://pbs.twimg.com/profile_images/1150087054681751552/7qKGEdUR_200x200.jpg\n",
      "https://pbs.twimg.com/profile_images/1081764014491873282/ZfWl9HJH_200x200.jpg\n",
      "https://pbs.twimg.com/profile_images/1182602234842013696/ebKkYhBd_200x200.png\n",
      "https://pbs.twimg.com/profile_images/1083809119478386689/VUYeIxH0_200x200.jpg\n",
      "https://pbs.twimg.com/profile_images/1075797568024653824/v_rvYiWT_200x200.jpg\n",
      "https://pbs.twimg.com/profile_images/1179661443609845762/HjVuYRdl_200x200.jpg\n",
      "https://pbs.twimg.com/profile_images/914874386984861696/0XKFh280_200x200.jpg\n",
      "https://pbs.twimg.com/profile_images/1087669947554299905/hqtkUSSi_200x200.jpg\n",
      "https://pbs.twimg.com/profile_images/1246306213081513985/52gNQGsF_200x200.jpg\n",
      "https://pbs.twimg.com/profile_images/767717313281859584/ZSdXZLE9_200x200.jpg\n",
      "https://pbs.twimg.com/profile_images/1065661549120036865/-bMcejuX_200x200.jpg\n",
      "https://pbs.twimg.com/profile_images/1213869926823399425/CM5QdScS_200x200.jpg\n",
      "https://pbs.twimg.com/profile_images/843918347716759554/-cJkGT_3_200x200.jpg\n",
      "https://pbs.twimg.com/profile_images/1224728642002944001/wVMhQwrZ_200x200.jpg\n",
      "https://pbs.twimg.com/profile_images/1195430064537718784/YbvY7XEG_200x200.jpg\n",
      "https://pbs.twimg.com/profile_images/815433248612515841/MgvA-anA_200x200.jpg\n",
      "https://pbs.twimg.com/profile_images/1129635810742026240/9bRrF4gB_200x200.jpg\n",
      "https://pbs.twimg.com/profile_images/1281847675915313154/GbG9S7zy_200x200.jpg\n",
      "https://pbs.twimg.com/profile_images/990597904522919936/s_Jvtteu_200x200.jpg\n",
      "https://pbs.twimg.com/profile_images/1272438234161676288/1NZwCHLs_200x200.jpg\n",
      "https://pbs.twimg.com/profile_images/1029478015573663745/vrjdnRjG_200x200.jpg\n",
      "https://pbs.twimg.com/profile_images/1113539963906330624/lxaNaQwE_200x200.jpg\n",
      "https://pbs.twimg.com/profile_images/750439673659584512/NMF1auwf_200x200.jpg\n",
      "https://pbs.twimg.com/profile_images/866325960446103554/gdcfcLVP_200x200.jpg\n"
     ]
    }
   ],
   "source": [
    "img = []\n",
    "for url in mutual_profile_pic_url:\n",
    "    print(url)\n",
    "    img.append(plt.imread(urllib.request.urlopen(url),format= 0))"
   ]
  },
  {
   "cell_type": "code",
   "execution_count": 5,
   "metadata": {},
   "outputs": [],
   "source": [
    "circle_filter = np.full([200,200,3], True)\n",
    "for i in range(200):\n",
    "    for j in range(200):\n",
    "        if (j-100)**2 + (i-100)**2>100**2:\n",
    "            circle_filter[i,j] = np.array([False,False,False],dtype=np.bool)\n"
   ]
  },
  {
   "cell_type": "code",
   "execution_count": 30,
   "metadata": {},
   "outputs": [],
   "source": [
    "row = 0\n",
    "clmn = 0\n",
    "res= np.zeros([200 * (len(img)//5+1), 200*5,3], dtype=np.uint8)\n",
    "for pic in img:\n",
    "#     print(row,clmn)\n",
    "    if pic.shape==(200,200,4):\n",
    "        pic = Image.fromarray(pic)\n",
    "        pic = pic.convert('RGB')\n",
    "        pic = np.array(pic)\n",
    "    r = pic.copy()\n",
    "    r2 = np.full_like(r, 255)\n",
    "    r2[circle_filter] = r[circle_filter]\n",
    "    res[row*200:(row+1)*200, clmn*200:(clmn+1)*200, :] =r2.astype(np.uint8)\n",
    "    clmn += 1\n",
    "    if clmn%5==0:\n",
    "        row +=1\n",
    "        clmn = 0\n",
    "plt.imsave(screen_name+'.jpg',res) "
   ]
  }
 ],
 "metadata": {
  "kernelspec": {
   "display_name": "Python 3",
   "language": "python",
   "name": "python3"
  },
  "language_info": {
   "codemirror_mode": {
    "name": "ipython",
    "version": 3
   },
   "file_extension": ".py",
   "mimetype": "text/x-python",
   "name": "python",
   "nbconvert_exporter": "python",
   "pygments_lexer": "ipython3",
   "version": "3.7.3"
  }
 },
 "nbformat": 4,
 "nbformat_minor": 2
}
